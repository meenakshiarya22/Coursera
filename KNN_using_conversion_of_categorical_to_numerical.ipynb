{
  "nbformat": 4,
  "nbformat_minor": 0,
  "metadata": {
    "colab": {
      "name": "KNN using conversion of categorical to numerical.ipynb",
      "provenance": [],
      "authorship_tag": "ABX9TyMXUIxJUmPfe9gWjt0c3DAy",
      "include_colab_link": true
    },
    "kernelspec": {
      "name": "python3",
      "display_name": "Python 3"
    }
  },
  "cells": [
    {
      "cell_type": "markdown",
      "metadata": {
        "id": "view-in-github",
        "colab_type": "text"
      },
      "source": [
        "<a href=\"https://colab.research.google.com/github/meenakshiarya22/Coursera/blob/master/KNN_using_conversion_of_categorical_to_numerical.ipynb\" target=\"_parent\"><img src=\"https://colab.research.google.com/assets/colab-badge.svg\" alt=\"Open In Colab\"/></a>"
      ]
    },
    {
      "cell_type": "code",
      "metadata": {
        "id": "b_tyJo_svezk",
        "colab_type": "code",
        "colab": {}
      },
      "source": [
        "import pandas as pd\n",
        "import numpy as np\n",
        "path = 'https://raw.githubusercontent.com/umangkejriwal1122/Machine-Learning/master/Data%20Sets/Iris.csv'"
      ],
      "execution_count": 0,
      "outputs": []
    },
    {
      "cell_type": "code",
      "metadata": {
        "id": "6lLi_m-Avg9O",
        "colab_type": "code",
        "colab": {}
      },
      "source": [
        "df=pd.read_csv(path)"
      ],
      "execution_count": 0,
      "outputs": []
    },
    {
      "cell_type": "code",
      "metadata": {
        "id": "cahAf9KZvlW5",
        "colab_type": "code",
        "colab": {}
      },
      "source": [
        "df.info"
      ],
      "execution_count": 0,
      "outputs": []
    },
    {
      "cell_type": "code",
      "metadata": {
        "id": "EM4kZLeCvqEG",
        "colab_type": "code",
        "colab": {
          "base_uri": "https://localhost:8080/",
          "height": 202
        },
        "outputId": "958ee7bb-f07d-4206-829b-337d2cb7bf68"
      },
      "source": [
        "df.describe\n",
        "df.head(5)"
      ],
      "execution_count": 8,
      "outputs": [
        {
          "output_type": "execute_result",
          "data": {
            "text/html": [
              "<div>\n",
              "<style scoped>\n",
              "    .dataframe tbody tr th:only-of-type {\n",
              "        vertical-align: middle;\n",
              "    }\n",
              "\n",
              "    .dataframe tbody tr th {\n",
              "        vertical-align: top;\n",
              "    }\n",
              "\n",
              "    .dataframe thead th {\n",
              "        text-align: right;\n",
              "    }\n",
              "</style>\n",
              "<table border=\"1\" class=\"dataframe\">\n",
              "  <thead>\n",
              "    <tr style=\"text-align: right;\">\n",
              "      <th></th>\n",
              "      <th>Id</th>\n",
              "      <th>SepalLengthCm</th>\n",
              "      <th>SepalWidthCm</th>\n",
              "      <th>PetalLengthCm</th>\n",
              "      <th>PetalWidthCm</th>\n",
              "      <th>Species</th>\n",
              "    </tr>\n",
              "  </thead>\n",
              "  <tbody>\n",
              "    <tr>\n",
              "      <th>0</th>\n",
              "      <td>1</td>\n",
              "      <td>5.1</td>\n",
              "      <td>3.5</td>\n",
              "      <td>1.4</td>\n",
              "      <td>0.2</td>\n",
              "      <td>Iris-setosa</td>\n",
              "    </tr>\n",
              "    <tr>\n",
              "      <th>1</th>\n",
              "      <td>2</td>\n",
              "      <td>4.9</td>\n",
              "      <td>3.0</td>\n",
              "      <td>1.4</td>\n",
              "      <td>0.2</td>\n",
              "      <td>Iris-setosa</td>\n",
              "    </tr>\n",
              "    <tr>\n",
              "      <th>2</th>\n",
              "      <td>3</td>\n",
              "      <td>4.7</td>\n",
              "      <td>3.2</td>\n",
              "      <td>1.3</td>\n",
              "      <td>0.2</td>\n",
              "      <td>Iris-setosa</td>\n",
              "    </tr>\n",
              "    <tr>\n",
              "      <th>3</th>\n",
              "      <td>4</td>\n",
              "      <td>4.6</td>\n",
              "      <td>3.1</td>\n",
              "      <td>1.5</td>\n",
              "      <td>0.2</td>\n",
              "      <td>Iris-setosa</td>\n",
              "    </tr>\n",
              "    <tr>\n",
              "      <th>4</th>\n",
              "      <td>5</td>\n",
              "      <td>5.0</td>\n",
              "      <td>3.6</td>\n",
              "      <td>1.4</td>\n",
              "      <td>0.2</td>\n",
              "      <td>Iris-setosa</td>\n",
              "    </tr>\n",
              "  </tbody>\n",
              "</table>\n",
              "</div>"
            ],
            "text/plain": [
              "   Id  SepalLengthCm  SepalWidthCm  PetalLengthCm  PetalWidthCm      Species\n",
              "0   1            5.1           3.5            1.4           0.2  Iris-setosa\n",
              "1   2            4.9           3.0            1.4           0.2  Iris-setosa\n",
              "2   3            4.7           3.2            1.3           0.2  Iris-setosa\n",
              "3   4            4.6           3.1            1.5           0.2  Iris-setosa\n",
              "4   5            5.0           3.6            1.4           0.2  Iris-setosa"
            ]
          },
          "metadata": {
            "tags": []
          },
          "execution_count": 8
        }
      ]
    },
    {
      "cell_type": "code",
      "metadata": {
        "id": "lTzh2ZDwvvBR",
        "colab_type": "code",
        "colab": {
          "base_uri": "https://localhost:8080/",
          "height": 87
        },
        "outputId": "075084d2-71e2-48a0-8bd7-a9d90ddd0505"
      },
      "source": [
        "df[\"Species\"].value_counts()"
      ],
      "execution_count": 9,
      "outputs": [
        {
          "output_type": "execute_result",
          "data": {
            "text/plain": [
              "Iris-virginica     50\n",
              "Iris-setosa        50\n",
              "Iris-versicolor    50\n",
              "Name: Species, dtype: int64"
            ]
          },
          "metadata": {
            "tags": []
          },
          "execution_count": 9
        }
      ]
    },
    {
      "cell_type": "code",
      "metadata": {
        "id": "V38sftSTwBQ7",
        "colab_type": "code",
        "colab": {}
      },
      "source": [
        "cleanup_nums = {\"Species\":     {\"Iris-virginica\": 1, \"Iris-setosa\": 2 , \"Iris-versicolor\":3}}\n",
        "\n",
        "                "
      ],
      "execution_count": 0,
      "outputs": []
    },
    {
      "cell_type": "code",
      "metadata": {
        "id": "T3ZdIv49we8r",
        "colab_type": "code",
        "colab": {
          "base_uri": "https://localhost:8080/",
          "height": 202
        },
        "outputId": "8e2b7945-4f3e-4d4f-b5f1-609a3810c2d6"
      },
      "source": [
        "df.replace(cleanup_nums, inplace=True)\n",
        "df.head()"
      ],
      "execution_count": 11,
      "outputs": [
        {
          "output_type": "execute_result",
          "data": {
            "text/html": [
              "<div>\n",
              "<style scoped>\n",
              "    .dataframe tbody tr th:only-of-type {\n",
              "        vertical-align: middle;\n",
              "    }\n",
              "\n",
              "    .dataframe tbody tr th {\n",
              "        vertical-align: top;\n",
              "    }\n",
              "\n",
              "    .dataframe thead th {\n",
              "        text-align: right;\n",
              "    }\n",
              "</style>\n",
              "<table border=\"1\" class=\"dataframe\">\n",
              "  <thead>\n",
              "    <tr style=\"text-align: right;\">\n",
              "      <th></th>\n",
              "      <th>Id</th>\n",
              "      <th>SepalLengthCm</th>\n",
              "      <th>SepalWidthCm</th>\n",
              "      <th>PetalLengthCm</th>\n",
              "      <th>PetalWidthCm</th>\n",
              "      <th>Species</th>\n",
              "    </tr>\n",
              "  </thead>\n",
              "  <tbody>\n",
              "    <tr>\n",
              "      <th>0</th>\n",
              "      <td>1</td>\n",
              "      <td>5.1</td>\n",
              "      <td>3.5</td>\n",
              "      <td>1.4</td>\n",
              "      <td>0.2</td>\n",
              "      <td>2</td>\n",
              "    </tr>\n",
              "    <tr>\n",
              "      <th>1</th>\n",
              "      <td>2</td>\n",
              "      <td>4.9</td>\n",
              "      <td>3.0</td>\n",
              "      <td>1.4</td>\n",
              "      <td>0.2</td>\n",
              "      <td>2</td>\n",
              "    </tr>\n",
              "    <tr>\n",
              "      <th>2</th>\n",
              "      <td>3</td>\n",
              "      <td>4.7</td>\n",
              "      <td>3.2</td>\n",
              "      <td>1.3</td>\n",
              "      <td>0.2</td>\n",
              "      <td>2</td>\n",
              "    </tr>\n",
              "    <tr>\n",
              "      <th>3</th>\n",
              "      <td>4</td>\n",
              "      <td>4.6</td>\n",
              "      <td>3.1</td>\n",
              "      <td>1.5</td>\n",
              "      <td>0.2</td>\n",
              "      <td>2</td>\n",
              "    </tr>\n",
              "    <tr>\n",
              "      <th>4</th>\n",
              "      <td>5</td>\n",
              "      <td>5.0</td>\n",
              "      <td>3.6</td>\n",
              "      <td>1.4</td>\n",
              "      <td>0.2</td>\n",
              "      <td>2</td>\n",
              "    </tr>\n",
              "  </tbody>\n",
              "</table>\n",
              "</div>"
            ],
            "text/plain": [
              "   Id  SepalLengthCm  SepalWidthCm  PetalLengthCm  PetalWidthCm  Species\n",
              "0   1            5.1           3.5            1.4           0.2        2\n",
              "1   2            4.9           3.0            1.4           0.2        2\n",
              "2   3            4.7           3.2            1.3           0.2        2\n",
              "3   4            4.6           3.1            1.5           0.2        2\n",
              "4   5            5.0           3.6            1.4           0.2        2"
            ]
          },
          "metadata": {
            "tags": []
          },
          "execution_count": 11
        }
      ]
    },
    {
      "cell_type": "code",
      "metadata": {
        "id": "Q2I1JbKqwn9b",
        "colab_type": "code",
        "colab": {}
      },
      "source": [
        "X=df[['SepalLengthCm','SepalWidthCm','PetalLengthCm','PetalWidthCm']].values"
      ],
      "execution_count": 0,
      "outputs": []
    },
    {
      "cell_type": "code",
      "metadata": {
        "id": "i6bxPUT1xAhD",
        "colab_type": "code",
        "colab": {
          "base_uri": "https://localhost:8080/",
          "height": 139
        },
        "outputId": "7ba4b25a-8039-49e3-ec6a-71b2833b7446"
      },
      "source": [
        "Y=df['Species'].values\n",
        "Y"
      ],
      "execution_count": 31,
      "outputs": [
        {
          "output_type": "execute_result",
          "data": {
            "text/plain": [
              "array([2, 2, 2, 2, 2, 2, 2, 2, 2, 2, 2, 2, 2, 2, 2, 2, 2, 2, 2, 2, 2, 2,\n",
              "       2, 2, 2, 2, 2, 2, 2, 2, 2, 2, 2, 2, 2, 2, 2, 2, 2, 2, 2, 2, 2, 2,\n",
              "       2, 2, 2, 2, 2, 2, 3, 3, 3, 3, 3, 3, 3, 3, 3, 3, 3, 3, 3, 3, 3, 3,\n",
              "       3, 3, 3, 3, 3, 3, 3, 3, 3, 3, 3, 3, 3, 3, 3, 3, 3, 3, 3, 3, 3, 3,\n",
              "       3, 3, 3, 3, 3, 3, 3, 3, 3, 3, 3, 3, 1, 1, 1, 1, 1, 1, 1, 1, 1, 1,\n",
              "       1, 1, 1, 1, 1, 1, 1, 1, 1, 1, 1, 1, 1, 1, 1, 1, 1, 1, 1, 1, 1, 1,\n",
              "       1, 1, 1, 1, 1, 1, 1, 1, 1, 1, 1, 1, 1, 1, 1, 1, 1, 1])"
            ]
          },
          "metadata": {
            "tags": []
          },
          "execution_count": 31
        }
      ]
    },
    {
      "cell_type": "code",
      "metadata": {
        "id": "AkdWkkvfxGVb",
        "colab_type": "code",
        "colab": {}
      },
      "source": [
        "from sklearn.model_selection import train_test_split\n",
        "X_train,X_test,y_train,y_test=train_test_split(X,Y,test_size=0.25)"
      ],
      "execution_count": 0,
      "outputs": []
    },
    {
      "cell_type": "code",
      "metadata": {
        "id": "KH0X-M1HxY89",
        "colab_type": "code",
        "colab": {}
      },
      "source": [
        "from sklearn.preprocessing import StandardScaler\n",
        "sc = StandardScaler()\n",
        "X_train = sc.fit_transform(X_train)\n",
        "X_test = sc.fit_transform(X_test)"
      ],
      "execution_count": 0,
      "outputs": []
    },
    {
      "cell_type": "code",
      "metadata": {
        "id": "EhiScGtzyEZl",
        "colab_type": "code",
        "colab": {}
      },
      "source": [
        "from sklearn.neighbors import KNeighborsClassifier\n",
        "neigh=KNeighborsClassifier(n_neighbors=7)"
      ],
      "execution_count": 0,
      "outputs": []
    },
    {
      "cell_type": "code",
      "metadata": {
        "id": "qNPqY9mhyG-v",
        "colab_type": "code",
        "colab": {
          "base_uri": "https://localhost:8080/",
          "height": 69
        },
        "outputId": "dcc60c35-3b86-45da-cea3-bc0b95cf48bb"
      },
      "source": [
        "neigh.fit(X_test,y_test)"
      ],
      "execution_count": 35,
      "outputs": [
        {
          "output_type": "execute_result",
          "data": {
            "text/plain": [
              "KNeighborsClassifier(algorithm='auto', leaf_size=30, metric='minkowski',\n",
              "                     metric_params=None, n_jobs=None, n_neighbors=7, p=2,\n",
              "                     weights='uniform')"
            ]
          },
          "metadata": {
            "tags": []
          },
          "execution_count": 35
        }
      ]
    },
    {
      "cell_type": "code",
      "metadata": {
        "id": "mXrUzIbRyNg2",
        "colab_type": "code",
        "colab": {
          "base_uri": "https://localhost:8080/",
          "height": 52
        },
        "outputId": "ca11d92c-eac9-4d1c-e744-f3d8371a3328"
      },
      "source": [
        "yhat=neigh.predict(X_test)\n",
        "yhat"
      ],
      "execution_count": 36,
      "outputs": [
        {
          "output_type": "execute_result",
          "data": {
            "text/plain": [
              "array([2, 2, 3, 2, 1, 2, 1, 3, 3, 3, 3, 1, 3, 3, 2, 2, 1, 2, 1, 1, 2, 2,\n",
              "       3, 3, 2, 1, 1, 3, 3, 3, 3, 1, 2, 2, 1, 1, 3, 3])"
            ]
          },
          "metadata": {
            "tags": []
          },
          "execution_count": 36
        }
      ]
    },
    {
      "cell_type": "code",
      "metadata": {
        "id": "-CUnT61TycNy",
        "colab_type": "code",
        "colab": {
          "base_uri": "https://localhost:8080/",
          "height": 35
        },
        "outputId": "70ae3630-0da2-4a92-e8e1-8789afbfcae0"
      },
      "source": [
        "from sklearn.metrics import r2_score\n",
        "score=r2_score(y_test,yhat)\n",
        "score"
      ],
      "execution_count": 37,
      "outputs": [
        {
          "output_type": "execute_result",
          "data": {
            "text/plain": [
              "0.6923076923076923"
            ]
          },
          "metadata": {
            "tags": []
          },
          "execution_count": 37
        }
      ]
    },
    {
      "cell_type": "code",
      "metadata": {
        "id": "qFEB-XcLyovz",
        "colab_type": "code",
        "colab": {
          "base_uri": "https://localhost:8080/",
          "height": 35
        },
        "outputId": "21ec4145-8764-4fc4-f7eb-3b0b01692ae7"
      },
      "source": [
        "from sklearn.metrics import mean_squared_error\n",
        "MSE=mean_squared_error(y_test,yhat)\n",
        "MSE"
      ],
      "execution_count": 38,
      "outputs": [
        {
          "output_type": "execute_result",
          "data": {
            "text/plain": [
              "0.21052631578947367"
            ]
          },
          "metadata": {
            "tags": []
          },
          "execution_count": 38
        }
      ]
    },
    {
      "cell_type": "code",
      "metadata": {
        "id": "THuFxu6OyuIL",
        "colab_type": "code",
        "colab": {
          "base_uri": "https://localhost:8080/",
          "height": 35
        },
        "outputId": "08b0b5fc-2cd7-4ddf-a32e-00d95d34ac97"
      },
      "source": [
        "from sklearn.metrics import accuracy_score\n",
        "acc=accuracy_score(y_test,yhat)\n",
        "acc"
      ],
      "execution_count": 39,
      "outputs": [
        {
          "output_type": "execute_result",
          "data": {
            "text/plain": [
              "0.9473684210526315"
            ]
          },
          "metadata": {
            "tags": []
          },
          "execution_count": 39
        }
      ]
    },
    {
      "cell_type": "code",
      "metadata": {
        "id": "kaZH6dXqzFNL",
        "colab_type": "code",
        "colab": {
          "base_uri": "https://localhost:8080/",
          "height": 35
        },
        "outputId": "3602f9b9-3d4c-4f33-9d4f-dff3f6084d35"
      },
      "source": [
        "n=neigh.predict([[3.0,1.2,7.8,9.0]])\n",
        "n"
      ],
      "execution_count": 40,
      "outputs": [
        {
          "output_type": "execute_result",
          "data": {
            "text/plain": [
              "array([1])"
            ]
          },
          "metadata": {
            "tags": []
          },
          "execution_count": 40
        }
      ]
    },
    {
      "cell_type": "code",
      "metadata": {
        "id": "B01PiL-ez0xI",
        "colab_type": "code",
        "colab": {
          "base_uri": "https://localhost:8080/",
          "height": 69
        },
        "outputId": "817fd804-2c86-42f9-b706-cb14e7f7c7c4"
      },
      "source": [
        "from sklearn.metrics import confusion_matrix\n",
        "cm = confusion_matrix(y_test,yhat)\n",
        "cm"
      ],
      "execution_count": 42,
      "outputs": [
        {
          "output_type": "execute_result",
          "data": {
            "text/plain": [
              "array([[11,  0,  2],\n",
              "       [ 0, 12,  0],\n",
              "       [ 0,  0, 13]])"
            ]
          },
          "metadata": {
            "tags": []
          },
          "execution_count": 42
        }
      ]
    },
    {
      "cell_type": "code",
      "metadata": {
        "id": "hiE4hfyS0wVf",
        "colab_type": "code",
        "colab": {
          "base_uri": "https://localhost:8080/",
          "height": 337
        },
        "outputId": "5d108d7c-b5ab-484b-d28a-635e36cfb7ca"
      },
      "source": [
        "import seaborn as sns\n",
        "sns.heatmap(cm,annot=True)"
      ],
      "execution_count": 43,
      "outputs": [
        {
          "output_type": "stream",
          "text": [
            "/usr/local/lib/python3.6/dist-packages/statsmodels/tools/_testing.py:19: FutureWarning: pandas.util.testing is deprecated. Use the functions in the public API at pandas.testing instead.\n",
            "  import pandas.util.testing as tm\n"
          ],
          "name": "stderr"
        },
        {
          "output_type": "execute_result",
          "data": {
            "text/plain": [
              "<matplotlib.axes._subplots.AxesSubplot at 0x7f29c87ca198>"
            ]
          },
          "metadata": {
            "tags": []
          },
          "execution_count": 43
        },
        {
          "output_type": "display_data",
          "data": {
            "image/png": "[encoded data removed]",
            "text/plain": [
              "<Figure size 432x288 with 2 Axes>"
            ]
          },
          "metadata": {
            "tags": [],
            "needs_background": "light"
          }
        }
      ]
    },
    {
      "cell_type": "code",
      "metadata": {
        "id": "bJD5Wh7t02sd",
        "colab_type": "code",
        "colab": {}
      },
      "source": [
        "from sklearn.externals import joblib \n",
        "mymodel = joblib.dump(neigh,'mymodel.pkl')"
      ],
      "execution_count": 0,
      "outputs": []
    },
    {
      "cell_type": "code",
      "metadata": {
        "id": "Bu0X4zpY1AqE",
        "colab_type": "code",
        "colab": {
          "base_uri": "https://localhost:8080/",
          "height": 55
        },
        "outputId": "8824b89f-36a8-4b0f-fd5b-5ebbc3646f09"
      },
      "source": [
        "mymodel"
      ],
      "execution_count": 45,
      "outputs": [
        {
          "output_type": "execute_result",
          "data": {
            "text/plain": [
              "b'\\x80\\x03csklearn.neighbors._classification\\nKNeighborsClassifier\\nq\\x00)\\x81q\\x01}q\\x02(X\\x0b\\x00\\x00\\x00n_neighborsq\\x03K\\x07X\\x06\\x00\\x00\\x00radiusq\\x04NX\\t\\x00\\x00\\x00algorithmq\\x05X\\x04\\x00\\x00\\x00autoq\\x06X\\t\\x00\\x00\\x00leaf_sizeq\\x07K\\x1eX\\x06\\x00\\x00\\x00metricq\\x08X\\t\\x00\\x00\\x00minkowskiq\\tX\\r\\x00\\x00\\x00metric_paramsq\\nNX\\x01\\x00\\x00\\x00pq\\x0bK\\x02X\\x06\\x00\\x00\\x00n_jobsq\\x0cNX\\x07\\x00\\x00\\x00weightsq\\rX\\x07\\x00\\x00\\x00uniformq\\x0eX\\x0b\\x00\\x00\\x00outputs_2d_q\\x0f\\x89X\\x08\\x00\\x00\\x00classes_q\\x10cnumpy.core.multiarray\\n_reconstruct\\nq\\x11cnumpy\\nndarray\\nq\\x12K\\x00\\x85q\\x13C\\x01bq\\x14\\x87q\\x15Rq\\x16(K\\x01K\\x03\\x85q\\x17cnumpy\\ndtype\\nq\\x18X\\x02\\x00\\x00\\x00i8q\\x19K\\x00K\\x01\\x87q\\x1aRq\\x1b(K\\x03X\\x01\\x00\\x00\\x00<q\\x1cNNNJ\\xff\\xff\\xff\\xffJ\\xff\\xff\\xff\\xffK\\x00tq\\x1db\\x89C\\x18\\x01\\x00\\x00\\x00\\x00\\x00\\x00\\x00\\x02\\x00\\x00\\x00\\x00\\x00\\x00\\x00\\x03\\x00\\x00\\x00\\x00\\x00\\x00\\x00q\\x1etq\\x1fbX\\x02\\x00\\x00\\x00_yq h\\x11h\\x12K\\x00\\x85q!h\\x14\\x87q\"Rq#(K\\x01K&\\x85q$h\\x1b\\x89B0\\x01\\x00\\x00\\x01\\x00\\x00\\x00\\x00\\x00\\x00\\x00\\x01\\x00\\x00\\x00\\x00\\x00\\x00\\x00\\x02\\x00\\x00\\x00\\x00\\x00\\x00\\x00\\x01\\x00\\x00\\x00\\x00\\x00\\x00\\x00\\x00\\x00\\x00\\x00\\x00\\x00\\x00\\x00\\x01\\x00\\x00\\x00\\x00\\x00\\x00\\x00\\x00\\x00\\x00\\x00\\x00\\x00\\x00\\x00\\x00\\x00\\x00\\x00\\x00\\x00\\x00\\x00\\x02\\x00\\x00\\x00\\x00\\x00\\x00\\x00\\x02\\x00\\x00\\x00\\x00\\x00\\x00\\x00\\x02\\x00\\x00\\x00\\x00\\x00\\x00\\x00\\x00\\x00\\x00\\x00\\x00\\x00\\x00\\x00\\x02\\x00\\x00\\x00\\x00\\x00\\x00\\x00\\x02\\x00\\x00\\x00\\x00\\x00\\x00\\x00\\x01\\x00\\x00\\x00\\x00\\x00\\x00\\x00\\x01\\x00\\x00\\x00\\x00\\x00\\x00\\x00\\x00\\x00\\x00\\x00\\x00\\x00\\x00\\x00\\x01\\x00\\x00\\x00\\x00\\x00\\x00\\x00\\x00\\x00\\x00\\x00\\x00\\x00\\x00\\x00\\x00\\x00\\x00\\x00\\x00\\x00\\x00\\x00\\x01\\x00\\x00\\x00\\x00\\x00\\x00\\x00\\x01\\x00\\x00\\x00\\x00\\x00\\x00\\x00\\x02\\x00\\x00\\x00\\x00\\x00\\x00\\x00\\x02\\x00\\x00\\x00\\x00\\x00\\x00\\x00\\x01\\x00\\x00\\x00\\x00\\x00\\x00\\x00\\x00\\x00\\x00\\x00\\x00\\x00\\x00\\x00\\x00\\x00\\x00\\x00\\x00\\x00\\x00\\x00\\x02\\x00\\x00\\x00\\x00\\x00\\x00\\x00\\x02\\x00\\x00\\x00\\x00\\x00\\x00\\x00\\x00\\x00\\x00\\x00\\x00\\x00\\x00\\x00\\x02\\x00\\x00\\x00\\x00\\x00\\x00\\x00\\x00\\x00\\x00\\x00\\x00\\x00\\x00\\x00\\x01\\x00\\x00\\x00\\x00\\x00\\x00\\x00\\x01\\x00\\x00\\x00\\x00\\x00\\x00\\x00\\x00\\x00\\x00\\x00\\x00\\x00\\x00\\x00\\x00\\x00\\x00\\x00\\x00\\x00\\x00\\x00\\x02\\x00\\x00\\x00\\x00\\x00\\x00\\x00\\x02\\x00\\x00\\x00\\x00\\x00\\x00\\x00q%tq&bX\\x18\\x00\\x00\\x00effective_metric_params_q\\'}q(X\\x11\\x00\\x00\\x00effective_metric_q)X\\t\\x00\\x00\\x00euclideanq*X\\x0b\\x00\\x00\\x00_fit_methodq+X\\x07\\x00\\x00\\x00kd_treeq,X\\x06\\x00\\x00\\x00_fit_Xq-h\\x11h\\x12K\\x00\\x85q.h\\x14\\x87q/Rq0(K\\x01K&K\\x04\\x86q1h\\x18X\\x02\\x00\\x00\\x00f8q2K\\x00K\\x01\\x87q3Rq4(K\\x03h\\x1cNNNJ\\xff\\xff\\xff\\xffJ\\xff\\xff\\xff\\xffK\\x00tq5b\\x89B\\xc0\\x04\\x00\\x00C\\xfb\\x0f\\xde\\x1c\\xa2\\xf1\\xbf(\\x07x\\xfe\\x01}~?X(8\\xd6>x\\xf6\\xbf\\xc1A#y\\xbb\\xfe\\xf5\\xbf\\xc0\\xce\\xd7W;o\\xf3\\xbfi\\xc0\\x151\\xb68\\xf2?4\\xd5E\\xae\\x06\\xf0\\xf1\\xbf\\xc1A#y\\xbb\\xfe\\xf5\\xbf\\xc1\\xb6\\xc4+&\\x97\\xf0?YX\\x1a+?\\xdd\\xe1\\xbfAMo\\x0c~\\xb2\\xe0?lP\\xb7V\\xfb\\xa5\\xc6?\\xa8\\xa8\\x00\\xd5\\xbf\\x0f\\xec\\xbfe\\x84\\x16\\xb0w)\\x02@Q\\xb1\\x07\\x9b3\\x90\\xf5\\xbf\\x1a\\xbe#\\xe6\\x1b\\xed\\xf3\\xbf\\xa9\\x04\\xe4\\x12\\xa0\\xcb\\xf7?(\\x07x\\xfe\\x01}~?\\xeaL\\x1cV\\xafi\\xf1?o\\xc5WC\\xfa\\xdf\\xdb?7\\xa2\\x9f\\xd1Y<\\xf5\\xbfv8\\x1433W\\xe2?`\\x9fh\\x11J`\\xf7\\xbf\\xc1A#y\\xbb\\xfe\\xf5\\xbf\\xba\\xd1J\\x89X\\xc5\\xe2?\\x84(\\x117-\\x94\\xd2?\\xa9\\xcf\\x15I\\x1bc\\xed?Q\\xf1\\xa9m{6\\xe6?\\x82Uv+7V\\xde?u\\xa2\\xdexJ\\x82\\xf6\\xbf_)1\\xf9\\xaaR\\xe4?\\x9d\\xf8\\xa8\\x93\\xbaY\\xea?\\x92\\xc6\\xf9c\\x0f\\x94\\xed?\\x84(\\x117-\\x94\\xd2?i\\xbe\\x1c,\\xcf\\xc4\\xdd?\\xd2\\xb6Y\\xf7{\\x99\\xd3?\\x82Uv+7V\\xde?\\xa8Fj\\x10g\\x8f\\xff\\xbf\\x13*\\xd7eH\\xe4\\xd2?\\xf8\\xcc\\xec\\xfa\\xfac\\xa8?\\xba\\xd1J\\x89X\\xc5\\xe2?v8\\x1433W\\xe2?,\\x06\\x99Ru\\x84\\xd6?\\xd2\\xb6Y\\xf7{\\x99\\xd3?\\x04\\x93\\xe59\\x9cf\\x00@[\\xd0\\x18-\\xbc\\xfb\\xf1\\xbf<j1\\xe1*b\\xfb?\\xe8\\x8a\\xd2\\x95[s\\xf5?\\xcf\\xcbd&\\x1e\\x19\\xd4\\xbf\\x82\\xfc\\xa5\\xc2[\\xea\\xea\\xbf\\xac\\xe3\\xa6\\x18\\xddG\\xc7?\\xf8\\xcc\\xec\\xfa\\xfac\\xa8?\\xcf\\xcbd&\\x1e\\x19\\xd4\\xbfu\\xa2\\xdexJ\\x82\\xf6\\xbfr\\xaf\\xbb\\xc1\\xf8l\\x88?)\\x07=q\\xfa\\x00\\xcb\\xbfC\\xfb\\x0f\\xde\\x1c\\xa2\\xf1\\xbf\\x84(\\x117-\\x94\\xd2?Q\\xb1\\x07\\x9b3\\x90\\xf5\\xbfg\\xc5\"\\x0c[\\x10\\xf8\\xbf7\\xa2\\x9f\\xd1Y<\\xf5\\xbfv8\\x1433W\\xe2?I:\\xd7_(\\xa8\\xf4\\xbf\\xc1A#y\\xbb\\xfe\\xf5\\xbf=\\x8a\\x8c\\xa5Dd\\xf2?\\x84(\\x117-\\x94\\xd2?\\x9c\\xe1\\xb4\\xd2\\x04\\x93\\xeb?\\x9c\\x83\\xd3o\\x1cP\\xf1?\\xc7\\xb3Q\\xfa\\x08A\\xe1\\xbfi\\xc0\\x151\\xb68\\xf2?B\\xc3\\xa6$\\x1d\\xc0\\xf3\\xbf\\xc1A#y\\xbb\\xfe\\xf5\\xbf\\xf9\\xbf\\x98`\\xa9\\xc0\\xb6\\xbfYX\\x1a+?\\xdd\\xe1\\xbfl\\x17\\x92o\\xc1\"\\xe6?\\x8f\\x0e\\xd2(\\xfb\\x84\\xf7?\\x82Uv+7V\\xde?i\\xc0\\x151\\xb68\\xf2?\\xb5\\xbdv\\xbf13\\xef?\\x8f\\x0e\\xd2(\\xfb\\x84\\xf7?\\x97O\\x90\\xc8\\xfc\\xa9\\xef\\xbf\\x83\\x92\\xdb|D\\xbf\\xf6?I:\\xd7_(\\xa8\\xf4\\xbfMfJZzp\\xeb\\xbf\\xa3\\x1c\\xf7>\\xb5\\xa3\\xfa\\xbfv8\\x1433W\\xe2?`\\x9fh\\x11J`\\xf7\\xbf\\xc1A#y\\xbb\\xfe\\xf5\\xbf\\xa3\\x07WD\\xbd!\\xd7?^\\x0c\\x18\\xae\\xfa\\n\\x02\\xc0,\\x06\\x99Ru\\x84\\xd6?\\xd2\\xb6Y\\xf7{\\x99\\xd3?\\xaf\\x01q\\xe1\\x82u\\xe8\\xbf\\x82\\xfc\\xa5\\xc2[\\xea\\xea\\xbfr\\xaf\\xbb\\xc1\\xf8l\\x88?lP\\xb7V\\xfb\\xa5\\xc6?\\x97O\\x90\\xc8\\xfc\\xa9\\xef\\xbfv8\\x1433W\\xe2?f\\x16\\x99LUH\\xf8\\xbf\\xc1A#y\\xbb\\xfe\\xf5\\xbf\\xf9\\xbf\\x98`\\xa9\\xc0\\xb6\\xbf\\x82\\xfc\\xa5\\xc2[\\xea\\xea\\xbfl\\x17\\x92o\\xc1\"\\xe6?\\x9d\\xf8\\xa8\\x93\\xbaY\\xea?-1\\x1c\\x99\\x81\\xfe\\xf5?(\\x07x\\xfe\\x01}~?\\xf2\\xc3L\\x91\\xbaQ\\xf2?\\x9c\\x83\\xd3o\\x1cP\\xf1?\\x92\\xc6\\xf9c\\x0f\\x94\\xed?\\x84(\\x117-\\x94\\xd2?\\x13*\\xd7eH\\xe4\\xd2?lP\\xb7V\\xfb\\xa5\\xc6?0\\xdf\\x91\\xef\\xf8D\\x98?(\\x07x\\xfe\\x01}~?\\xac\\xe3\\xa6\\x18\\xddG\\xc7?\\xd2\\xb6Y\\xf7{\\x99\\xd3?cso\\xba\\x86\\xda\\xcf?(\\x07x\\xfe\\x01}~?R;\\xd0\\x82\\x94\\x82\\xe2?Q\\xf1\\xa9m{6\\xe6?\\xa5\\xd70\\xec\\x92q\\xc1?\\x82\\xfc\\xa5\\xc2[\\xea\\xea\\xbfl\\x17\\x92o\\xc1\"\\xe6?o\\xc5WC\\xfa\\xdf\\xdb?\\xa9\\x04\\xe4\\x12\\xa0\\xcb\\xf7?\\x9dd\\xa1\\xc8\\xd2E\\xfb?\\xff\\xb1\\xad\\x07\\xd1!\\xf4?6\\x92\\xd1\\xbb\\x9a\\x96\\xf9?\\xa3\\x1c\\xf7>\\xb5\\xa3\\xfa\\xbf(\\x07x\\xfe\\x01}~?`\\x9fh\\x11J`\\xf7\\xbf\\xc1A#y\\xbb\\xfe\\xf5\\xbf\\xc7\\xb3Q\\xfa\\x08A\\xe1\\xbfi\\xc0\\x151\\xb68\\xf2?Q\\xb1\\x07\\x9b3\\x90\\xf5\\xbfs:$S|\\xdb\\xf1\\xbf\\x92\\xc6\\xf9c\\x0f\\x94\\xed?\\x84(\\x117-\\x94\\xd2?\\xb5\\xbdv\\xbf13\\xef?\\x8f\\x0e\\xd2(\\xfb\\x84\\xf7?!\\xd8\\xab\\x8c\\xbe\\x98\\xf9?Kh\\x1d\\'E\\xa0\\xd1\\xbf\\x0e\\xa0\\x0e~\\xe7\\xf1\\xf5?Q\\xf1\\xa9m{6\\xe6?\\xcf\\xcbd&\\x1e\\x19\\xd4\\xbf(\\x07x\\xfe\\x01}~?,\\x06\\x99Ru\\x84\\xd6?\\xd2\\xb6Y\\xf7{\\x99\\xd3?C\\xfb\\x0f\\xde\\x1c\\xa2\\xf1\\xbf\\x8ft\\xa4\\xc4\\xd8\\x08\\xfb\\xbf5K}\\xc6\\xa5\\xfd\\xd4\\xbf1\\x92\\x9c\\x84\\xfb\\xc6\\xd5\\xbfq6tq7bX\\x0e\\x00\\x00\\x00n_samples_fit_q8K&X\\x05\\x00\\x00\\x00_treeq9csklearn.neighbors._kd_tree\\nnewObj\\nq:csklearn.neighbors._kd_tree\\nKDTree\\nq;\\x85q<Rq=(h0h\\x11h\\x12K\\x00\\x85q>h\\x14\\x87q?Rq@(K\\x01K&\\x85qAh\\x1b\\x89B0\\x01\\x00\\x00\\x00\\x00\\x00\\x00\\x00\\x00\\x00\\x00\\x01\\x00\\x00\\x00\\x00\\x00\\x00\\x00\\x02\\x00\\x00\\x00\\x00\\x00\\x00\\x00\\x03\\x00\\x00\\x00\\x00\\x00\\x00\\x00\\x04\\x00\\x00\\x00\\x00\\x00\\x00\\x00\\x05\\x00\\x00\\x00\\x00\\x00\\x00\\x00\\x06\\x00\\x00\\x00\\x00\\x00\\x00\\x00\\x07\\x00\\x00\\x00\\x00\\x00\\x00\\x00\\x08\\x00\\x00\\x00\\x00\\x00\\x00\\x00\\t\\x00\\x00\\x00\\x00\\x00\\x00\\x00\\n\\x00\\x00\\x00\\x00\\x00\\x00\\x00\\x0b\\x00\\x00\\x00\\x00\\x00\\x00\\x00\\x0c\\x00\\x00\\x00\\x00\\x00\\x00\\x00\\r\\x00\\x00\\x00\\x00\\x00\\x00\\x00\\x0e\\x00\\x00\\x00\\x00\\x00\\x00\\x00\\x0f\\x00\\x00\\x00\\x00\\x00\\x00\\x00\\x10\\x00\\x00\\x00\\x00\\x00\\x00\\x00\\x11\\x00\\x00\\x00\\x00\\x00\\x00\\x00\\x12\\x00\\x00\\x00\\x00\\x00\\x00\\x00\\x13\\x00\\x00\\x00\\x00\\x00\\x00\\x00\\x14\\x00\\x00\\x00\\x00\\x00\\x00\\x00\\x15\\x00\\x00\\x00\\x00\\x00\\x00\\x00\\x16\\x00\\x00\\x00\\x00\\x00\\x00\\x00\\x17\\x00\\x00\\x00\\x00\\x00\\x00\\x00\\x18\\x00\\x00\\x00\\x00\\x00\\x00\\x00\\x19\\x00\\x00\\x00\\x00\\x00\\x00\\x00\\x1a\\x00\\x00\\x00\\x00\\x00\\x00\\x00\\x1b\\x00\\x00\\x00\\x00\\x00\\x00\\x00\\x1c\\x00\\x00\\x00\\x00\\x00\\x00\\x00\\x1d\\x00\\x00\\x00\\x00\\x00\\x00\\x00\\x1e\\x00\\x00\\x00\\x00\\x00\\x00\\x00\\x1f\\x00\\x00\\x00\\x00\\x00\\x00\\x00 \\x00\\x00\\x00\\x00\\x00\\x00\\x00!\\x00\\x00\\x00\\x00\\x00\\x00\\x00\"\\x00\\x00\\x00\\x00\\x00\\x00\\x00#\\x00\\x00\\x00\\x00\\x00\\x00\\x00$\\x00\\x00\\x00\\x00\\x00\\x00\\x00%\\x00\\x00\\x00\\x00\\x00\\x00\\x00qBtqCbh\\x11h\\x12K\\x00\\x85qDh\\x14\\x87qERqF(K\\x01K\\x01\\x85qGh\\x18X\\x03\\x00\\x00\\x00V32qHK\\x00K\\x01\\x87qIRqJ(K\\x03X\\x01\\x00\\x00\\x00|qKN(X\\t\\x00\\x00\\x00idx_startqLX\\x07\\x00\\x00\\x00idx_endqMX\\x07\\x00\\x00\\x00is_leafqNh\\x04tqO}qP(hLh\\x1bK\\x00\\x86qQhMh\\x1bK\\x08\\x86qRhNh\\x1bK\\x10\\x86qSh\\x04h4K\\x18\\x86qTuK K\\x01K\\x10tqUb\\x89C \\x00\\x00\\x00\\x00\\x00\\x00\\x00\\x00&\\x00\\x00\\x00\\x00\\x00\\x00\\x00\\x01\\x00\\x00\\x00\\x00\\x00\\x00\\x00b\\xaf\\x01\\xad\\x82|\\r@qVtqWbh\\x11h\\x12K\\x00\\x85qXh\\x14\\x87qYRqZ(K\\x01K\\x02K\\x01K\\x04\\x87q[h4\\x89C@\\xa3\\x1c\\xf7>\\xb5\\xa3\\xfa\\xbf^\\x0c\\x18\\xae\\xfa\\n\\x02\\xc0f\\x16\\x99LUH\\xf8\\xbfg\\xc5\"\\x0c[\\x10\\xf8\\xbf\\x04\\x93\\xe59\\x9cf\\x00@e\\x84\\x16\\xb0w)\\x02@<j1\\xe1*b\\xfb?6\\x92\\xd1\\xbb\\x9a\\x96\\xf9?q\\\\tq]bK\\x1eK\\x01K\\x01K\\x00K\\x01K\\x00M\\xca\\x05csklearn.neighbors._dist_metrics\\nnewObj\\nq^csklearn.neighbors._dist_metrics\\nEuclideanDistance\\nq_\\x85q`RqaG@\\x00\\x00\\x00\\x00\\x00\\x00\\x00h\\x11h\\x12K\\x00\\x85qbh\\x14\\x87qcRqd(K\\x01K\\x01\\x85qeh4\\x89C\\x08\\x00\\x00\\x00\\x00\\x00\\x00\\x00\\x00qftqgbh\\x11h\\x12K\\x00\\x85qhh\\x14\\x87qiRqj(K\\x01K\\x01K\\x01\\x86qkh4\\x89C\\x08\\x00\\x00\\x00\\x00\\x00\\x00\\x00\\x00qltqmb\\x87qnbNtqobX\\x10\\x00\\x00\\x00_sklearn_versionqpX\\x0c\\x00\\x00\\x000.22.2.post1qqub.'"
            ]
          },
          "metadata": {
            "tags": []
          },
          "execution_count": 45
        }
      ]
    },
    {
      "cell_type": "code",
      "metadata": {
        "id": "ijEL1zei1Cep",
        "colab_type": "code",
        "colab": {}
      },
      "source": [
        ""
      ],
      "execution_count": 0,
      "outputs": []
    }
  ]
}